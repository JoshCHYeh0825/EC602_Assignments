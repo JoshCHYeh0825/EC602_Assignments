{
 "cells": [
  {
   "cell_type": "markdown",
   "id": "13508662-19fb-4e88-8bfc-9db896795853",
   "metadata": {},
   "source": [
    "# Testing using pure python\n"
   ]
  },
  {
   "cell_type": "markdown",
   "id": "caf47823-57c3-48db-88ac-00587fc9c7df",
   "metadata": {},
   "source": [
    "Importing testing code works OK, but has \n",
    "problems\n",
    "\n",
    "- once the code has been imported, it won't be reloaded\n",
    "- if the code modifies anything (e.g. numpy = 1) subsequent\n",
    "  runs will be broken"
   ]
  },
  {
   "cell_type": "code",
   "execution_count": 1,
   "id": "bf1c1997-9857-4380-b9bb-2c36a77a7fdc",
   "metadata": {},
   "outputs": [
    {
     "name": "stdout",
     "output_type": "stream",
     "text": [
      "Hello world!\n"
     ]
    }
   ],
   "source": [
    "import hello_world1"
   ]
  },
  {
   "cell_type": "code",
   "execution_count": 2,
   "id": "db720c8e-2650-4804-a7ac-02a53f082b34",
   "metadata": {},
   "outputs": [],
   "source": [
    "result = _"
   ]
  },
  {
   "cell_type": "code",
   "execution_count": 3,
   "id": "54f75844-9833-4ccd-948b-9997abd51134",
   "metadata": {},
   "outputs": [
    {
     "name": "stdout",
     "output_type": "stream",
     "text": [
      "Variable       Type      Data/Info\n",
      "----------------------------------\n",
      "hello_world1   module    <module 'hello_world1' fr<...>inclass/hello_world1.py'>\n",
      "result         str       \n"
     ]
    }
   ],
   "source": [
    "%whos"
   ]
  },
  {
   "cell_type": "code",
   "execution_count": 4,
   "id": "d39f57d0-b975-4133-8436-59ba21979fc1",
   "metadata": {},
   "outputs": [
    {
     "data": {
      "text/plain": [
       "''"
      ]
     },
     "execution_count": 4,
     "metadata": {},
     "output_type": "execute_result"
    }
   ],
   "source": [
    "result"
   ]
  },
  {
   "cell_type": "code",
   "execution_count": 5,
   "id": "47b35981-2055-4500-9d1b-e5e73c0811af",
   "metadata": {},
   "outputs": [],
   "source": [
    "# importlib allows for a generalized process\n",
    "# of importing multiple versions of the same code (i.e. student work)\n",
    "import importlib"
   ]
  },
  {
   "cell_type": "code",
   "execution_count": null,
   "id": "a2f98fe4-6313-446d-b135-57ed146cffea",
   "metadata": {},
   "outputs": [],
   "source": []
  },
  {
   "cell_type": "code",
   "execution_count": 6,
   "id": "63fd2453-13cd-4d18-a80f-620c3726537b",
   "metadata": {},
   "outputs": [],
   "source": [
    "# subprocess can be used to run external programs\n",
    "# and check their input/output characteristics\n",
    "import subprocess"
   ]
  },
  {
   "cell_type": "code",
   "execution_count": 7,
   "id": "6e93ef7a-1e1e-421f-9a3b-23e8832fed43",
   "metadata": {},
   "outputs": [
    {
     "name": "stdout",
     "output_type": "stream",
     "text": [
      "Hello world!\n"
     ]
    }
   ],
   "source": [
    "task = subprocess.run([\"python\",\"hello_world1.py\"])"
   ]
  },
  {
   "cell_type": "code",
   "execution_count": 8,
   "id": "b8664062-5947-4b21-b384-ba9235666549",
   "metadata": {},
   "outputs": [
    {
     "name": "stdout",
     "output_type": "stream",
     "text": [
      "Help on function run in module subprocess:\n",
      "\n",
      "run(*popenargs, input=None, capture_output=False, timeout=None, check=False, **kwargs)\n",
      "    Run command with arguments and return a CompletedProcess instance.\n",
      "\n",
      "    The returned instance will have attributes args, returncode, stdout and\n",
      "    stderr. By default, stdout and stderr are not captured, and those attributes\n",
      "    will be None. Pass stdout=PIPE and/or stderr=PIPE in order to capture them,\n",
      "    or pass capture_output=True to capture both.\n",
      "\n",
      "    If check is True and the exit code was non-zero, it raises a\n",
      "    CalledProcessError. The CalledProcessError object will have the return code\n",
      "    in the returncode attribute, and output & stderr attributes if those streams\n",
      "    were captured.\n",
      "\n",
      "    If timeout is given, and the process takes too long, a TimeoutExpired\n",
      "    exception will be raised.\n",
      "\n",
      "    There is an optional argument \"input\", allowing you to\n",
      "    pass bytes or a string to the subprocess's stdin.  If you use this argument\n",
      "    you may not also use the Popen constructor's \"stdin\" argument, as\n",
      "    it will be used internally.\n",
      "\n",
      "    By default, all communication is in bytes, and therefore any \"input\" should\n",
      "    be bytes, and the stdout and stderr will be bytes. If in text mode, any\n",
      "    \"input\" should be a string, and stdout and stderr will be strings decoded\n",
      "    according to locale encoding, or by \"encoding\" if set. Text mode is\n",
      "    triggered by setting any of text, encoding, errors or universal_newlines.\n",
      "\n",
      "    The other arguments are the same as for the Popen constructor.\n",
      "\n"
     ]
    }
   ],
   "source": [
    "help(subprocess.run)"
   ]
  },
  {
   "cell_type": "code",
   "execution_count": 9,
   "id": "425b3069-46c6-4e3f-b43e-96147784faeb",
   "metadata": {},
   "outputs": [
    {
     "name": "stdout",
     "output_type": "stream",
     "text": [
      "0\n"
     ]
    }
   ],
   "source": [
    "# a simple (but flawed) grader\n",
    "import subprocess\n",
    "\n",
    "task = subprocess.run([\"python\",\"hello_world3.py\"],\n",
    "                      stdout=subprocess.PIPE)\n",
    "\n",
    "output = task.stdout.decode()\n",
    "\n",
    "if output.strip().lower() == \"hello world!\":\n",
    "    grade = 100\n",
    "else:\n",
    "    grade = 0\n",
    "\n",
    "print(grade)"
   ]
  },
  {
   "cell_type": "code",
   "execution_count": 10,
   "id": "9e5a82f0-cc86-4813-a897-a080567337fa",
   "metadata": {},
   "outputs": [
    {
     "name": "stdout",
     "output_type": "stream",
     "text": [
      "''\n"
     ]
    }
   ],
   "source": [
    "print(repr(output.strip()))"
   ]
  },
  {
   "cell_type": "code",
   "execution_count": 11,
   "id": "626bf5ce-db00-4031-a36f-fcdcd64efb2a",
   "metadata": {},
   "outputs": [],
   "source": [
    "import hello_world3"
   ]
  },
  {
   "cell_type": "code",
   "execution_count": 12,
   "id": "1c785fb6-1ff6-419b-8506-7177889d180a",
   "metadata": {},
   "outputs": [],
   "source": [
    "stuff= [x for x in dir(hello_world3) if not x.startswith(\"__\")]"
   ]
  },
  {
   "cell_type": "code",
   "execution_count": 13,
   "id": "3e462fc4-2245-4cee-af44-7b500073205d",
   "metadata": {},
   "outputs": [
    {
     "name": "stdout",
     "output_type": "stream",
     "text": [
      "['f']\n"
     ]
    }
   ],
   "source": [
    "print(stuff)"
   ]
  },
  {
   "cell_type": "code",
   "execution_count": 14,
   "id": "da65b8fe-21ea-4e19-819f-e0f6ba3742be",
   "metadata": {},
   "outputs": [
    {
     "data": {
      "text/plain": [
       "True"
      ]
     },
     "execution_count": 14,
     "metadata": {},
     "output_type": "execute_result"
    }
   ],
   "source": [
    "hasattr(hello_world3,stuff[0])"
   ]
  },
  {
   "cell_type": "code",
   "execution_count": 15,
   "id": "dc81a2ec-4020-41a2-8f8f-ba3e0d309c85",
   "metadata": {},
   "outputs": [
    {
     "name": "stdout",
     "output_type": "stream",
     "text": [
      "Help on built-in function hasattr in module builtins:\n",
      "\n",
      "hasattr(obj, name, /)\n",
      "    Return whether the object has an attribute with the given name.\n",
      "\n",
      "    This is done by calling getattr(obj, name) and catching AttributeError.\n",
      "\n"
     ]
    }
   ],
   "source": [
    "help(hasattr)"
   ]
  },
  {
   "cell_type": "code",
   "execution_count": 16,
   "id": "785118ab-226c-4f66-9b5d-f22458ed91ec",
   "metadata": {},
   "outputs": [
    {
     "name": "stdout",
     "output_type": "stream",
     "text": [
      "Hello world!\n",
      "Hello world!\n",
      "None\n"
     ]
    }
   ],
   "source": [
    "result = getattr(hello_world3,stuff[0])()\n",
    "print(result)"
   ]
  },
  {
   "cell_type": "code",
   "execution_count": null,
   "id": "0b6744c3-dccd-494c-aca6-20e5ade933ae",
   "metadata": {},
   "outputs": [],
   "source": []
  },
  {
   "cell_type": "code",
   "execution_count": 7,
   "id": "96a34956-3c1c-49ce-be70-9849c6da7ee6",
   "metadata": {},
   "outputs": [
    {
     "name": "stdout",
     "output_type": "stream",
     "text": [
      "Variable   Type    Data/Info\n",
      "----------------------------\n",
      "x          int     42\n"
     ]
    }
   ],
   "source": [
    "# getattr\n",
    "%reset -f\n",
    "x = 42\n",
    "%whos"
   ]
  },
  {
   "cell_type": "code",
   "execution_count": 10,
   "id": "5253f900-9812-4df5-bd0b-016a34d57660",
   "metadata": {},
   "outputs": [],
   "source": [
    "# loading a value based on the string of the value\n",
    "\n",
    "import sys\n",
    "this_module = sys.modules[__name__]\n",
    "\n",
    "y = getattr(this_module,'x')\n",
    "z = globals()['x']"
   ]
  },
  {
   "cell_type": "code",
   "execution_count": 14,
   "id": "be98ab2f-c712-477d-9950-a55175ed540b",
   "metadata": {},
   "outputs": [
    {
     "name": "stdout",
     "output_type": "stream",
     "text": [
      "In ['', 'import sys\\nsys.modules[__name__]', 'import sys\\nsys.modules[__name__]', \"getattr(sys.modules[__name__],'x')\", \"# getattr\\nget_ipython().run_line_magic('reset', '-f')\\nx = 1\\nget_ipython().run_line_magic('whos', '')\\nimport sys\\nthis_module = sys.modules[__name__]\\ngetattr(this_module,'x')\", \"import sys\\nthis_module = sys.modules[__name__]\\ny = getattr(this_module,'x')\", 'print(x,y)', \"# getattr\\nget_ipython().run_line_magic('reset', '-f')\\nx = 42\\nget_ipython().run_line_magic('whos', '')\", \"import sys\\nthis_module = sys.modules[__name__]\\ny = getattr(this_module,'x')\", 'print(x,y)', \"import sys\\nthis_module = sys.modules[__name__]\\n\\ny = getattr(this_module,'x')\\nz = globals()['x']\", 'print(x,y,z)', 'for z in globals():\\n    print(z)', 'for z in globals():\\n    if not z.startswith(\"_\"):\\n        print(z)', 'for z in globals():\\n    if not z.startswith(\"_\"):\\n        print(z,getattr(this_module,z))']\n",
      "Out {}\n",
      "get_ipython <bound method InteractiveShell.get_ipython of <ipykernel.zmqshell.ZMQInteractiveShell object at 0x1066f34a0>>\n",
      "exit <IPython.core.autocall.ZMQExitAutocall object at 0x10645ba70>\n",
      "quit <IPython.core.autocall.ZMQExitAutocall object at 0x10645ba70>\n",
      "open <function open at 0x10516d800>\n",
      "x 42\n",
      "sys <module 'sys' (built-in)>\n",
      "this_module <module '__main__'>\n",
      "y 42\n",
      "z z\n"
     ]
    }
   ],
   "source": [
    "for z in globals():\n",
    "    if not z.startswith(\"_\"):\n",
    "        print(z, getattr(this_module,z))"
   ]
  },
  {
   "cell_type": "code",
   "execution_count": null,
   "id": "0a8b9d33-c90e-48af-bf39-ee79bc51cde5",
   "metadata": {},
   "outputs": [],
   "source": []
  }
 ],
 "metadata": {
  "kernelspec": {
   "display_name": "Python 3 (ipykernel)",
   "language": "python",
   "name": "python3"
  },
  "language_info": {
   "codemirror_mode": {
    "name": "ipython",
    "version": 3
   },
   "file_extension": ".py",
   "mimetype": "text/x-python",
   "name": "python",
   "nbconvert_exporter": "python",
   "pygments_lexer": "ipython3",
   "version": "3.12.2"
  }
 },
 "nbformat": 4,
 "nbformat_minor": 5
}
