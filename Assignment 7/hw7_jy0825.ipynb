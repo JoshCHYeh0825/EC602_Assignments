{
 "cells": [
  {
   "cell_type": "code",
   "execution_count": null,
   "metadata": {},
   "outputs": [],
   "source": [
    "\"\"\"\n",
    "EC602 Fall 2024\n",
    "\n",
    "Assignment Seven\n",
    "\n",
    "Posted: November 5, 2024 (in this document)\n",
    "Due: November 19, 2024\n",
    "\n",
    "\n",
    "\n",
    "Details\n",
    "-------\n",
    "\n",
    "Groups of up to size 3 are permitted.\n",
    "\n",
    "Assignment value: one of 10 required weekly assignments.\n",
    "\n",
    "\n",
    "\n",
    "Background\n",
    "----------\n",
    "\n",
    "Grading software using software is important for many reasons, including\n",
    "\n",
    "- fairness: consistency\n",
    "- concept: conveys the concept of unit testing to students\n",
    "- learning: allows for instant feedback (if tester provided to students)\n",
    "- scale: allows the tests to be written once and then deployed at scale\n",
    "\n",
    "\n",
    "This process is often called \"auto-grading\" although as you will see, it is \n",
    "hard work and not at all automatic.\n",
    "\n",
    "\n",
    "Assignment Description\n",
    "----------------------\n",
    "\n",
    "\n",
    "Your task is to develop grading software that will grade all \"wedding\" submissions\n",
    "from a directory. \n",
    "\n",
    "There are five possible solutions:\n",
    "\n",
    "- doing everything from scratch (pure Python)\n",
    "- unittest\n",
    "- pytest (pypi.org)\n",
    "- gradescope: https://gradescope-autograders.readthedocs.io/en/latest/python/\n",
    "- otter-grader\n",
    "\n",
    "\n",
    "\n",
    "You may choose any of these solution methods.\n",
    "\n",
    "\"\"\""
   ]
  }
 ],
 "metadata": {
  "kernelspec": {
   "display_name": "Python 3",
   "language": "python",
   "name": "python3"
  },
  "language_info": {
   "name": "python",
   "version": "3.12.7"
  }
 },
 "nbformat": 4,
 "nbformat_minor": 2
}
