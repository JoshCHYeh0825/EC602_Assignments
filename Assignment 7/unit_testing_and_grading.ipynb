{
 "cells": [
  {
   "cell_type": "markdown",
   "id": "b0cdf6b5-737f-48d4-b635-cfdc13e607f9",
   "metadata": {},
   "source": [
    "# Unit Testing\n",
    "\n",
    "\n",
    "Topics\n",
    "\n",
    "- how grading benefits from unit testing\n",
    "- test-driven development: write the tests first\n",
    "- where to draw the line (API) for testing\n",
    "- separating the test suite from the testing software\n",
    "\n",
    "- tools overview\n",
    "\n",
    "Other concepts\n",
    "--------------\n",
    "\n",
    "- mock ups\n",
    "\n",
    "  \n",
    "Problems\n",
    "--------\n",
    "\n",
    "- dealing with errors -- syntax vs runtime\n",
    "- input / print / display\n",
    "- timeouts\n",
    "- "
   ]
  },
  {
   "cell_type": "code",
   "execution_count": null,
   "id": "bb464805-3c12-4c8a-a09c-d3ba50336137",
   "metadata": {},
   "outputs": [],
   "source": []
  }
 ],
 "metadata": {
  "kernelspec": {
   "display_name": "Python 3 (ipykernel)",
   "language": "python",
   "name": "python3"
  },
  "language_info": {
   "codemirror_mode": {
    "name": "ipython",
    "version": 3
   },
   "file_extension": ".py",
   "mimetype": "text/x-python",
   "name": "python",
   "nbconvert_exporter": "python",
   "pygments_lexer": "ipython3",
   "version": "3.12.2"
  }
 },
 "nbformat": 4,
 "nbformat_minor": 5
}
