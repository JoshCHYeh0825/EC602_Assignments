{
 "cells": [
  {
   "cell_type": "code",
   "execution_count": 17,
   "metadata": {},
   "outputs": [],
   "source": [
    "# Copyright 2024 Chih Han \"Josh\" Yeh jy0825@bu.edu\n",
    "\n",
    "import pandas as pd\n",
    "import numpy as np\n",
    "import timeit as tm\n"
   ]
  },
  {
   "cell_type": "code",
   "execution_count": 31,
   "metadata": {},
   "outputs": [
    {
     "name": "stdout",
     "output_type": "stream",
     "text": [
      "  Int Type  Required Memory Size (bytes)  Largest Possible Value  \\\n",
      "0     int8                             1                     127   \n",
      "1    int16                             2                   32767   \n",
      "2    int32                             4              2147483647   \n",
      "3    int64                             8     9223372036854775807   \n",
      "4    uint8                             1                     255   \n",
      "5   uint16                             2                   65535   \n",
      "6   uint32                             4              4294967295   \n",
      "7   uint64                             8    18446744073709551615   \n",
      "\n",
      "   Time (seconds)  Time (years)  \n",
      "0    5.730024e-06  1.816979e-13  \n",
      "1    1.478391e-03  4.687948e-11  \n",
      "2    9.689081e+01  3.072387e-06  \n",
      "3    4.161429e+11  1.319580e+04  \n",
      "4    1.150517e-05  3.648264e-13  \n",
      "5    2.956828e-03  9.376039e-11  \n",
      "6    1.937816e+02  6.144775e-06  \n",
      "7    8.322857e+11  2.639161e+04  \n"
     ]
    }
   ],
   "source": [
    "# Task 1a\n",
    "\n",
    "# Counter assignment for timing \n",
    "count = 1000000\n",
    "\n",
    "# Counting function\n",
    "def counting_time(n):\n",
    "    for i in range(n):\n",
    "        pass\n",
    "\n",
    "# Measure the time for counting to 1 million\n",
    "time_count = tm.timeit(lambda: counting_time(count), number=1)\n",
    "#print(f\"Time to count to {count}: {time_for_1M} seconds\")\n",
    "\n",
    "# DF Headers ({'Int Type', 'Required Memory Size', 'Largest Possible Size',\n",
    "# 'Local Computational Time','Time in Years'})\n",
    "# Initialized signed and unsigned int types\n",
    "int_types = ['int8', 'int16', 'int32', 'int64', 'uint8', 'uint16', 'uint32', 'uint64']\n",
    "\n",
    "# List to store properties\n",
    "dtype_DF = []\n",
    "\n",
    "for dtype in int_types:\n",
    "    np_inttype = np.dtype(dtype)\n",
    "\n",
    "    # Memory size\n",
    "    mem_size = np_inttype.itemsize\n",
    "\n",
    "    # Largest possible value\n",
    "    max_size = np.iinfo(np_inttype).max\n",
    "\n",
    "    # Calculate computational time in seconds\n",
    "    ratio = max_size / count\n",
    "    T_s = time_count * ratio\n",
    "    T_y = T_s / (60 * 60 * 24 * 365)\n",
    "    \n",
    "    # Append results for each dtype\n",
    "    dtype_DF.append([dtype, mem_size, max_size, T_s, T_y])\n",
    "\n",
    "numprop_df = pd.DataFrame(dtype_DF, columns=['Int Type', 'Required Memory Size (bytes)', 'Largest Possible Value', 'Time (seconds)', 'Time (years)'])\n",
    "print (numprop_df)"
   ]
  },
  {
   "cell_type": "code",
   "execution_count": 40,
   "metadata": {},
   "outputs": [
    {
     "name": "stdout",
     "output_type": "stream",
     "text": [
      "(np.uint64(0), dtype('uint64'))\n",
      "(np.uint64(18446744073709551615), dtype('uint64'))\n"
     ]
    }
   ],
   "source": [
    "#Task 1b\n",
    "\n",
    "def underflow_int(x):\n",
    "    x_inttype = np.iinfo(x).dtype\n",
    "\n",
    "    underflow_val = np.array(np.iinfo(x_inttype).min, dtype=x_inttype) - np.array(1,dtype=x_inttype)\n",
    "    \n",
    "    return (underflow_val, underflow_val.dtype)\n",
    "    \n",
    "\n",
    "\n",
    "def overflow_int(x):\n",
    "\n",
    "    x_inttype = np.iinfo(x).dtype\n",
    "\n",
    "    overflow_val = np.array(np.iinfo(x_inttype).max, dtype=x_inttype) + np.array(1,dtype=x_inttype)\n",
    "    \n",
    "    return (overflow_val, overflow_val.dtype)\n",
    "\n",
    "x = np.uint64(8)\n",
    "\n",
    "print(overflow_int(x))\n",
    "print(underflow_int(x))"
   ]
  }
 ],
 "metadata": {
  "kernelspec": {
   "display_name": "Python 3",
   "language": "python",
   "name": "python3"
  },
  "language_info": {
   "codemirror_mode": {
    "name": "ipython",
    "version": 3
   },
   "file_extension": ".py",
   "mimetype": "text/x-python",
   "name": "python",
   "nbconvert_exporter": "python",
   "pygments_lexer": "ipython3",
   "version": "3.12.7"
  }
 },
 "nbformat": 4,
 "nbformat_minor": 2
}
