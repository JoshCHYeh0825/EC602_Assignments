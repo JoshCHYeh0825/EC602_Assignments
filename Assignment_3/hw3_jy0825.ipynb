{
 "cells": [
  {
   "cell_type": "code",
   "execution_count": 3,
   "metadata": {},
   "outputs": [],
   "source": [
    "# Copyright 2024 Chih Han \"Josh\" Yeh jy0825@bu.edu\n",
    "\n",
    "import pandas as pd\n",
    "import numpy as np\n",
    "import timeit"
   ]
  },
  {
   "cell_type": "code",
   "execution_count": 9,
   "metadata": {},
   "outputs": [
    {
     "name": "stdout",
     "output_type": "stream",
     "text": [
      "Time to count to 1000000: 0.011365300000761636 seconds\n"
     ]
    }
   ],
   "source": [
    "# Counter assignment for timing \n",
    "count = 1000000\n",
    "\n",
    "# Counting function\n",
    "def counting_time(n):\n",
    "    for i in range(n):\n",
    "        pass\n",
    "\n",
    "# Measure the time for counting to 1 million\n",
    "time_for_1M = timeit.timeit(lambda: counting_time(count), number=1)\n",
    "#print(f\"Time to count to {count}: {time_for_1M} seconds\")\n"
   ]
  },
  {
   "cell_type": "code",
   "execution_count": null,
   "metadata": {},
   "outputs": [],
   "source": [
    "# Part 1a\n",
    "\n",
    "# DF Headers ({'Int Type', 'Required Memory Size', 'Largest Possible Size',\n",
    "# 'Local Computational Time','Time in Years'})\n",
    "# Initialized signed and unsigned int types\n",
    "int_types = ['int8', 'int16', 'int32', 'int64', 'uint8', 'uint16', 'uint32', 'uint64']\n",
    "\n",
    "# List to store properties\n",
    "dtype_DF = []\n",
    "\n",
    "for dtype in int_types:\n",
    "    np_inttype = np.dtype(dtype)\n",
    "\n",
    "    # Memory size\n",
    "    mem_size = np_inttype.itemsize\n",
    "\n",
    "    # Largest possible value\n",
    "    max_size = np.iinfo(np_inttype).max\n",
    "\n",
    "    # Calculate computational time in seconds\n",
    "    ratio = max_size / count\n",
    "    T_s = time_for_1M * ratio\n",
    "    T_y = T_s / (60 * 60 * 24 * 365)\n",
    "    \n",
    "    # Append results for each dtype\n",
    "    dtype_DF.append([dtype, mem_size, max_size, T_s, T_y])\n",
    "\n",
    "numprop_df = pd.DataFrame(dtype_DF, columns=['Int Type', 'Required Memory Size (bytes)', 'Largest Possible Value', 'Time (seconds)', 'Time (years)'])\n",
    "    \n",
    "print(numprop_df)"
   ]
  }
 ],
 "metadata": {
  "kernelspec": {
   "display_name": "Python 3",
   "language": "python",
   "name": "python3"
  },
  "language_info": {
   "codemirror_mode": {
    "name": "ipython",
    "version": 3
   },
   "file_extension": ".py",
   "mimetype": "text/x-python",
   "name": "python",
   "nbconvert_exporter": "python",
   "pygments_lexer": "ipython3",
   "version": "3.12.7"
  }
 },
 "nbformat": 4,
 "nbformat_minor": 2
}
