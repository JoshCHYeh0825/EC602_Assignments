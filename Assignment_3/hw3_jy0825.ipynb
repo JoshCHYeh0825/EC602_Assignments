{
 "cells": [
  {
   "cell_type": "code",
   "execution_count": 3,
   "metadata": {},
   "outputs": [],
   "source": [
    "# Copyright 2024 Chih Han \"Josh\" Yeh jy0825@bu.edu\n",
    "\n",
    "import pandas as pd\n",
    "import numpy as np\n",
    "import timeit as tm"
   ]
  },
  {
   "cell_type": "code",
   "execution_count": 25,
   "metadata": {},
   "outputs": [
    {
     "name": "stdout",
     "output_type": "stream",
     "text": [
      "  Int Type  Required Memory Size (bytes)  Largest Possible Value  \\\n",
      "0     int8                             1                     127   \n",
      "1    int16                             2                   32767   \n",
      "2    int32                             4              2147483647   \n",
      "3    int64                             8     9223372036854775807   \n",
      "4    uint8                             1                     255   \n",
      "5   uint16                             2                   65535   \n",
      "6   uint32                             4              4294967295   \n",
      "7   uint64                             8    18446744073709551615   \n",
      "\n",
      "   Time (seconds)  Time (years)  \n",
      "0    1.518983e-06  4.816665e-14  \n",
      "1    3.919097e-04  1.242738e-11  \n",
      "2    2.568498e+01  8.144653e-07  \n",
      "3    1.103161e+11  3.498102e+03  \n",
      "4    3.049927e-06  9.671257e-14  \n",
      "5    7.838314e-04  2.485513e-11  \n",
      "6    5.136996e+01  1.628931e-06  \n",
      "7    2.206323e+11  6.996204e+03  \n"
     ]
    }
   ],
   "source": [
    "# Task 1a\n",
    "\n",
    "# Counter assignment for timing \n",
    "count = 1000000\n",
    "\n",
    "# Counting function\n",
    "def counting_time(n):\n",
    "    for i in range(n):\n",
    "        pass\n",
    "\n",
    "# Measure the time for counting to 1 million\n",
    "time_count = tm.timeit(lambda: counting_time(count), number=1)\n",
    "\n",
    "int_types = ['int8', 'int16', 'int32', 'int64', 'uint8', 'uint16', 'uint32', 'uint64']\n",
    "\n",
    "itype_DF = []\n",
    "\n",
    "for dtype in int_types:\n",
    "    np_inttype = np.dtype(dtype)\n",
    "\n",
    "    mem_size = np_inttype.itemsize\n",
    "\n",
    "    max_int = np.iinfo(np_inttype).max\n",
    "\n",
    "    # Calculate computational time in seconds\n",
    "    ratio = max_int / count\n",
    "    T_s = time_count * ratio\n",
    "    T_y = T_s / (60 * 60 * 24 * 365)\n",
    "    \n",
    "    itype_DF.append([dtype, mem_size, max_int, T_s, T_y])\n",
    "\n",
    "intprop_df = pd.DataFrame(itype_DF, columns=['Int Type', 'Required Memory Size (bytes)', 'Largest Possible Value', 'Time (seconds)', 'Time (years)'])\n",
    "print (intprop_df)"
   ]
  },
  {
   "cell_type": "code",
   "execution_count": 14,
   "metadata": {},
   "outputs": [],
   "source": [
    "#Task 1b\n",
    "\n",
    "def underflow_int(x):\n",
    "    x_inttype = np.iinfo(x).dtype\n",
    "\n",
    "    underflow_val = np.array(np.iinfo(x_inttype).min, dtype=x_inttype) - np.array(1,dtype=x_inttype)\n",
    "    \n",
    "    return (underflow_val, underflow_val.dtype)\n",
    "    \n",
    "\n",
    "\n",
    "def overflow_int(x):\n",
    "\n",
    "    x_inttype = np.iinfo(x).dtype\n",
    "\n",
    "    overflow_val = np.array(np.iinfo(x_inttype).max, dtype=x_inttype) + np.array(1,dtype=x_inttype)\n",
    "    \n",
    "    return (overflow_val, overflow_val.dtype)\n",
    "\n",
    "#x = np.uint64(8)\n",
    "\n",
    "#print(overflow_int(x))\n",
    "#print(underflow_int(x))"
   ]
  },
  {
   "cell_type": "code",
   "execution_count": 29,
   "metadata": {},
   "outputs": [
    {
     "name": "stdout",
     "output_type": "stream",
     "text": [
      "  Float Type  Required Memory Size (bytes)  Largest Finite Value  \\\n",
      "0    float16                             2          6.550400e+04   \n",
      "1    float32                             4          3.402823e+38   \n",
      "2    float64                             8         1.797693e+308   \n",
      "\n",
      "   Smallest Positive Value  Smallest Positive Non-representable Integer  \\\n",
      "0             6.103516e-05                                           16   \n",
      "1             1.175494e-38                                          128   \n",
      "2            2.225074e-308                                         1024   \n",
      "\n",
      "   Decimal Digits of Precision  \n",
      "0                            3  \n",
      "1                            6  \n",
      "2                           15  \n",
      "float64\n"
     ]
    }
   ],
   "source": [
    "#Task 1c\n",
    "\n",
    "float_types = ['float16', 'float32', 'float64']\n",
    "\n",
    "# List to store properties\n",
    "ftype_DF = []\n",
    "\n",
    "for dtype in float_types:\n",
    "    np_floattype = np.dtype(dtype)\n",
    "\n",
    "    mem_size = np_floattype.itemsize\n",
    "\n",
    "    max_float = np.finfo(np_floattype).max\n",
    "    \n",
    "    min_float = np.finfo(np_floattype).tiny\n",
    "    \n",
    "    max_rep = np.finfo(np_floattype).maxexp\n",
    "    \n",
    "    prec_dec = np.finfo(np_floattype).precision\n",
    "    \n",
    "    \n",
    "    ftype_DF.append([dtype, mem_size, max_float, min_float, max_rep, prec_dec])\n",
    "\n",
    "floatprop_df = pd.DataFrame(ftype_DF, columns=['Float Type',\n",
    "                                             'Required Memory Size (bytes)',\n",
    "                                             'Largest Finite Value',\n",
    "                                             'Smallest Positive Value',\n",
    "                                             'Smallest Positive Non-representable Integer',\n",
    "                                             'Decimal Digits of Precision'])\n",
    "#print (floatprop_df)"
   ]
  }
 ],
 "metadata": {
  "kernelspec": {
   "display_name": "Python 3",
   "language": "python",
   "name": "python3"
  },
  "language_info": {
   "codemirror_mode": {
    "name": "ipython",
    "version": 3
   },
   "file_extension": ".py",
   "mimetype": "text/x-python",
   "name": "python",
   "nbconvert_exporter": "python",
   "pygments_lexer": "ipython3",
   "version": "3.12.7"
  }
 },
 "nbformat": 4,
 "nbformat_minor": 2
}
