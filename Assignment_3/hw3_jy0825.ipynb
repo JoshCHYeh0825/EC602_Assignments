{
 "cells": [
  {
   "cell_type": "code",
   "execution_count": null,
   "metadata": {},
   "outputs": [],
   "source": [
    "# Copyright 2024 Chih Han \"Josh\" Yeh jy0825@bu.edu\n",
    "\n",
    "import pandas as pd\n",
    "import numpy as np\n",
    "import time\n",
    "\n",
    "# Part 1a\n",
    "\n",
    "# DF Headers ({'Int Type', 'Required Memory Size', 'Largest Possible Size', 'Local Computational Time','Time in Years'})\n",
    "\n",
    "# Initialized signed and unsigned int types\n",
    "int_types = ['int8', 'int16', 'int32', 'int64', 'uint8', 'uint16', 'uint32', 'uint64']\n",
    "\n",
    "for dtype in int_types:\n",
    "    np_inttype = np.dtype(dtype)\n",
    "\n",
    "    # Memory size\n",
    "    mem_size = np_inttype.itemsize\n",
    "\n",
    "    # Largest possible value\n",
    "    max_size = np.iinfo(np_inttype).max\n",
    "\n",
    "    # Calculate computational time in seconds\n",
    "\n",
    "\n",
    "numprop_df = pd.Dataframe()"
   ]
  }
 ],
 "metadata": {
  "language_info": {
   "name": "python"
  }
 },
 "nbformat": 4,
 "nbformat_minor": 2
}
