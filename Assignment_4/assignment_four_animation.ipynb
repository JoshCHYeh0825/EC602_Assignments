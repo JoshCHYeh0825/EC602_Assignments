{
 "cells": [
  {
   "cell_type": "markdown",
   "id": "53a370e3-c2c0-4a59-b2b8-f805b88ffa0b",
   "metadata": {},
   "source": [
    "# EC602 Fall 2024\n",
    "\n",
    "# Assignment Four\n",
    "\n",
    "Posted:  October 8, 2024 \n",
    "\n",
    "Due:  October 29, 2024\n",
    "\n",
    "\n",
    "Details\n",
    "-------\n",
    "\n",
    "Groups of 1, 2, or 3\n",
    "\n",
    "Assignment value: one of ten required weekly assignments.\n",
    "\n",
    "\n",
    "Assignment Description\n",
    "----------------------\n",
    "\n",
    "In this assignment, your goal is to develop educational visualizations / animations in Jupyter Notebook.\n",
    "\n",
    "\n",
    "The group should pick one topic, preferably from a STEM topic (science, technology, engineering, mathematics) that you are very familiar with, and present a short lesson on this topic that includes interactive visualization tools with graphs / images.\n",
    "\n",
    "There should be at least one control element (slider, widget, form) that changes the view.\n",
    "\n",
    "\n",
    "## Possible Tools\n",
    "\n",
    "- ipywidgets (widgets and display tools)\n",
    "- matplotlib (plots and animations)\n",
    "- plotly  (plots and animations)\n",
    "- opencv2 (video and image manipulations)\n",
    "- turtle (basic geometric and algorithm visualizations)\n",
    "\n",
    "Other examples to show\n",
    "\n",
    "- pythontutor\n",
    "\n",
    "## Requirements and Deliverables\n",
    "\n",
    "\n",
    "For each group member, you should deliver a separate (using a different tool chain) visualization on the SAME topic. \n",
    "\n",
    "Compare the appropriateness of the tools selected for the tasks at hand.\n",
    "\n",
    "\n"
   ]
  },
  {
   "cell_type": "code",
   "execution_count": 2,
   "id": "82e76459-b3ca-4be9-b871-b27e150aaf82",
   "metadata": {},
   "outputs": [],
   "source": [
    "# Doppler Effect\n",
    "\n",
    "\"\"\"\n",
    "Main visualization for this display:\n",
    "    - Wave point source\n",
    "    - Changing perceived wavelength and frequency relative to a stationary/moving observer\n",
    "    - Numerical changing equation display for the effect\n",
    "\n",
    "Things that would move:\n",
    "    - The wave source - closer/further from person (User controlled slider)\n",
    "    - Wave\n",
    "    - Wave equation according to the slider\n",
    "    - Color: According to red and blue shift\n",
    "\"\"\""
   ]
  },
  {
   "cell_type": "code",
   "execution_count": 5,
   "id": "4c410901",
   "metadata": {},
   "outputs": [],
   "source": [
    "import numpy as np\n",
    "import ipywidgets as ipw\n",
    "import matplotlib\n",
    "from matplotlib import pyplot as plt\n",
    "from matplotlib.animation import PillowWriter"
   ]
  },
  {
   "cell_type": "code",
   "execution_count": null,
   "id": "64f73622",
   "metadata": {},
   "outputs": [],
   "source": []
  }
 ],
 "metadata": {
  "kernelspec": {
   "display_name": "Python 3",
   "language": "python",
   "name": "python3"
  },
  "language_info": {
   "codemirror_mode": {
    "name": "ipython",
    "version": 3
   },
   "file_extension": ".py",
   "mimetype": "text/x-python",
   "name": "python",
   "nbconvert_exporter": "python",
   "pygments_lexer": "ipython3",
   "version": "3.12.7"
  }
 },
 "nbformat": 4,
 "nbformat_minor": 5
}
