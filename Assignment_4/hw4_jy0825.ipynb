{
 "cells": [
  {
   "cell_type": "code",
   "execution_count": 8,
   "metadata": {},
   "outputs": [],
   "source": [
    "import numpy as np\n",
    "import matplotlib.pyplot as plt\n",
    "from matplotlib.animation import FuncAnimation\n",
    "import ipywidgets as widgets\n",
    "from IPython.display import display, HTML"
   ]
  },
  {
   "cell_type": "code",
   "execution_count": 9,
   "metadata": {},
   "outputs": [],
   "source": [
    "# Doppler effect parameters\n",
    "\n",
    "c = 343  # Speed of sound (m/s) in air\n",
    "\n",
    "# Set up the figure and axis\n",
    "fig, ax = plt.subplots()\n",
    "plt.close()  # Prevent initial static plot from displaying\n",
    "\n",
    "# Initial positions of source and observer\n",
    "source_pos = 5  # Starting point of the wave source\n",
    "observer_pos = 0  # Observer fixed at the origin (0, 0)\n",
    "\n",
    "# Create the dot markers for the observer and the wave source\n",
    "observer_dot, = ax.plot([], [], 'go', markersize=10)  # Green dot for observer\n",
    "source_dot, = ax.plot([], [], 'ro', markersize=10)    # Red dot for the source\n"
   ]
  },
  {
   "cell_type": "code",
   "execution_count": 3,
   "metadata": {},
   "outputs": [],
   "source": [
    "# Initialize plot limits and elements\n",
    "\n",
    "def init():\n",
    "    \n",
    "    ax.set_xlim(-15, 15)\n",
    "    ax.set_ylim(-15, 15)\n",
    "    ax.set_aspect('equal')\n",
    "    ax.set_title('Doppler Effect Visualization')\n",
    "    ax.set_xlabel('X Position')\n",
    "    ax.set_ylabel('Y Position')\n",
    "    ax.legend(loc='upper right')\n",
    "    \n",
    "    observer_dot.set_data([observer_pos], [0])\n",
    "    source_dot.set_data([source_pos], [0])\n",
    "    \n",
    "    return observer_dot, source_dot"
   ]
  },
  {
   "cell_type": "code",
   "execution_count": 4,
   "metadata": {},
   "outputs": [],
   "source": [
    "# Function to draw circular waves\n",
    "\n",
    "def draw_waves(source_x, frame):\n",
    "    \n",
    "    ax.patches = []  # Clear previous wave circles\n",
    "    num_waves = 10  # Number of waves at a time\n",
    "    max_radius = 10  # Maximum radius of waves\n",
    "\n",
    "    # Calculate relative velocity and adjust wavelength\n",
    "    relative_velocity = source_x - observer_pos\n",
    "    wavelength_factor = 1 + relative_velocity / 20  # Adjust this factor for desired speed impact\n",
    "\n",
    "    for i in range(num_waves):\n",
    "        # Calculate the radius of each wave, expanding over time\n",
    "        radius = (frame - i * 20) % max_radius\n",
    "        adjusted_radius = radius * wavelength_factor\n",
    "\n",
    "        # Only draw waves that are visible within the max_radius\n",
    "        if adjusted_radius > 0:\n",
    "            wave_color = 'blue' if relative_velocity < 0 else 'red'\n",
    "            circle = plt.Circle((source_x, 0), adjusted_radius, color=wave_color, fill=False, lw=1.5)\n",
    "            ax.add_patch(circle)"
   ]
  },
  {
   "cell_type": "code",
   "execution_count": 11,
   "metadata": {},
   "outputs": [],
   "source": [
    "# Update function for the animation\n",
    "\n",
    "def update(frame, source_x):\n",
    "    source_dot.set_data([source_x], [0])\n",
    "    draw_waves(source_x, frame)\n",
    "\n",
    "    # Change the source dot color for redshift/blueshift\n",
    "    if source_x < observer_pos:\n",
    "        source_dot.set_color('blue')  # Blueshift (moving towards observer)\n",
    "    else:\n",
    "        source_dot.set_color('red')   # Redshift (moving away from observer)\n",
    "    \n",
    "    return observer_dot, source_dot"
   ]
  },
  {
   "cell_type": "code",
   "execution_count": 12,
   "metadata": {},
   "outputs": [],
   "source": [
    "# Create interactive widgets\n",
    "\n",
    "x_pos_slider = widgets.FloatSlider(min=-10, max=10, step=0.1, value=5, description=\"Source Position\")\n",
    "pause_button = widgets.ToggleButton(value=False, description=\"Pause Animation\", button_style='info')\n",
    "\n",
    "# Store the animation object to control play/pause\n",
    "ani = None\n"
   ]
  },
  {
   "cell_type": "code",
   "execution_count": 13,
   "metadata": {},
   "outputs": [],
   "source": [
    "# Function to handle the animation update interactively\n",
    "\n",
    "def update_plot(source_x, is_paused):\n",
    "    global ani\n",
    "\n",
    "    # Start or pause the animation based on the button state\n",
    "    if ani is not None:\n",
    "        ani.event_source.stop()  # Stop any ongoing animation\n",
    "\n",
    "    if not is_paused:\n",
    "        ani = FuncAnimation(\n",
    "            fig, update, frames=np.arange(0, 200), fargs=(source_x,),\n",
    "            init_func=init, interval=50, blit=False, repeat=True\n",
    "        )\n",
    "        display(HTML(ani.to_jshtml()))"
   ]
  },
  {
   "cell_type": "code",
   "execution_count": 7,
   "metadata": {},
   "outputs": [
    {
     "data": {
      "application/vnd.jupyter.widget-view+json": {
       "model_id": "3e44298fd5a145e498febbdd74159036",
       "version_major": 2,
       "version_minor": 0
      },
      "text/plain": [
       "VBox(children=(FloatSlider(value=5.0, description='Source Position', max=10.0, min=-10.0),))"
      ]
     },
     "metadata": {},
     "output_type": "display_data"
    },
    {
     "data": {
      "application/vnd.jupyter.widget-view+json": {
       "model_id": "68907bd05f6c465e9f3bba07b0f48eb1",
       "version_major": 2,
       "version_minor": 0
      },
      "text/plain": [
       "interactive(children=(FloatSlider(value=5.0, description='Source Position', max=10.0, min=-10.0), Output()), _…"
      ]
     },
     "execution_count": 7,
     "metadata": {},
     "output_type": "execute_result"
    }
   ],
   "source": [
    "# Display the slider and attach the interactive functionality\n",
    "ui = widgets.VBox([x_pos_slider])\n",
    "display(ui)\n",
    "\n",
    "# Connect the slider to the update function\n",
    "widgets.interactive(update_plot, source_x=x_pos_slider)"
   ]
  }
 ],
 "metadata": {
  "kernelspec": {
   "display_name": "Python 3",
   "language": "python",
   "name": "python3"
  },
  "language_info": {
   "codemirror_mode": {
    "name": "ipython",
    "version": 3
   },
   "file_extension": ".py",
   "mimetype": "text/x-python",
   "name": "python",
   "nbconvert_exporter": "python",
   "pygments_lexer": "ipython3",
   "version": "3.12.7"
  }
 },
 "nbformat": 4,
 "nbformat_minor": 2
}
