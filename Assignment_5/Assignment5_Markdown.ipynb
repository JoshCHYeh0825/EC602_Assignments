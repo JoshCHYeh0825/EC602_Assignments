{
 "cells": [
  {
   "cell_type": "code",
   "execution_count": null,
   "metadata": {},
   "outputs": [],
   "source": [
    "<h1 align=\"center\">Assignment 5</h1>\n",
    "\n",
    "<h3 align=\"center\">Ordinary Differential Equation Solver & Visualizer</h3>\n",
    "\n",
    "<h2 align=\"center\">EC602 Design by Software Fall 2024</h2>"
   ]
  }
 ],
 "metadata": {
  "kernelspec": {
   "display_name": "Python 3",
   "language": "python",
   "name": "python3"
  },
  "language_info": {
   "name": "python",
   "version": "3.12.7"
  }
 },
 "nbformat": 4,
 "nbformat_minor": 2
}
